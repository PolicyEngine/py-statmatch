{
 "cells": [
  {
   "cell_type": "markdown",
   "metadata": {},
   "source": [
    "# Basic Statistical Matching Example\n",
    "\n",
    "This example demonstrates the basic usage of py-statmatch for nearest neighbor matching."
   ]
  },
  {
   "cell_type": "code",
   "execution_count": null,
   "metadata": {},
   "outputs": [],
   "source": [
    "import pandas as pd\n",
    "import numpy as np\n",
    "from statmatch import nnd_hotdeck\n",
    "import matplotlib.pyplot as plt\n",
    "import seaborn as sns\n",
    "\n",
    "# Set random seed for reproducibility\n",
    "np.random.seed(42)\n",
    "sns.set_style(\"whitegrid\")"
   ]
  },
  {
   "cell_type": "markdown",
   "metadata": {},
   "source": [
    "## Create Example Datasets\n",
    "\n",
    "We'll create two datasets:\n",
    "- **Donors**: Contains age, income, education, and job satisfaction (to be donated)\n",
    "- **Recipients**: Contains age, income, and education (missing job satisfaction)"
   ]
  },
  {
   "cell_type": "code",
   "execution_count": null,
   "metadata": {},
   "outputs": [],
   "source": [
    "# Create donor dataset\n",
    "n_donors = 200\n",
    "donors = pd.DataFrame(\n",
    "    {\n",
    "        \"age\": np.random.normal(40, 10, n_donors),\n",
    "        \"income\": np.random.lognormal(\n",
    "            10.5, 0.5, n_donors\n",
    "        ),  # Log-normal for realistic income\n",
    "        \"education_years\": np.random.normal(14, 3, n_donors),\n",
    "        \"job_satisfaction\": np.random.beta(6, 4, n_donors)\n",
    "        * 10,  # Beta for bounded variable\n",
    "    }\n",
    ")\n",
    "\n",
    "# Round age and education to integers\n",
    "donors[\"age\"] = donors[\"age\"].round().astype(int)\n",
    "donors[\"education_years\"] = (\n",
    "    donors[\"education_years\"].clip(8, 20).round().astype(int)\n",
    ")\n",
    "\n",
    "print(\"Donor dataset shape:\", donors.shape)\n",
    "donors.head()"
   ]
  },
  {
   "cell_type": "code",
   "execution_count": null,
   "metadata": {},
   "outputs": [],
   "source": [
    "# Create recipient dataset\n",
    "n_recipients = 100\n",
    "recipients = pd.DataFrame(\n",
    "    {\n",
    "        \"age\": np.random.normal(38, 12, n_recipients),\n",
    "        \"income\": np.random.lognormal(10.4, 0.6, n_recipients),\n",
    "        \"education_years\": np.random.normal(13, 3, n_recipients),\n",
    "    }\n",
    ")\n",
    "\n",
    "# Round age and education to integers\n",
    "recipients[\"age\"] = recipients[\"age\"].round().astype(int)\n",
    "recipients[\"education_years\"] = (\n",
    "    recipients[\"education_years\"].clip(8, 20).round().astype(int)\n",
    ")\n",
    "\n",
    "print(\"Recipient dataset shape:\", recipients.shape)\n",
    "recipients.head()"
   ]
  },
  {
   "cell_type": "markdown",
   "metadata": {},
   "source": [
    "## Visualize the Datasets\n",
    "\n",
    "Let's visualize the distributions to understand the matching challenge:"
   ]
  },
  {
   "cell_type": "code",
   "execution_count": null,
   "metadata": {},
   "outputs": [],
   "source": [
    "fig, axes = plt.subplots(1, 3, figsize=(15, 4))\n",
    "\n",
    "# Age distribution\n",
    "axes[0].hist(donors[\"age\"], alpha=0.5, label=\"Donors\", bins=20)\n",
    "axes[0].hist(recipients[\"age\"], alpha=0.5, label=\"Recipients\", bins=20)\n",
    "axes[0].set_xlabel(\"Age\")\n",
    "axes[0].set_ylabel(\"Count\")\n",
    "axes[0].legend()\n",
    "axes[0].set_title(\"Age Distribution\")\n",
    "\n",
    "# Income distribution\n",
    "axes[1].hist(donors[\"income\"], alpha=0.5, label=\"Donors\", bins=20)\n",
    "axes[1].hist(recipients[\"income\"], alpha=0.5, label=\"Recipients\", bins=20)\n",
    "axes[1].set_xlabel(\"Income\")\n",
    "axes[1].legend()\n",
    "axes[1].set_title(\"Income Distribution\")\n",
    "\n",
    "# Education distribution\n",
    "axes[2].hist(\n",
    "    donors[\"education_years\"], alpha=0.5, label=\"Donors\", bins=range(8, 22)\n",
    ")\n",
    "axes[2].hist(\n",
    "    recipients[\"education_years\"],\n",
    "    alpha=0.5,\n",
    "    label=\"Recipients\",\n",
    "    bins=range(8, 22),\n",
    ")\n",
    "axes[2].set_xlabel(\"Education Years\")\n",
    "axes[2].legend()\n",
    "axes[2].set_title(\"Education Distribution\")\n",
    "\n",
    "plt.tight_layout()\n",
    "plt.show()"
   ]
  },
  {
   "cell_type": "markdown",
   "metadata": {},
   "source": [
    "## Perform Statistical Matching\n",
    "\n",
    "Now let's use `nnd_hotdeck` to match recipients to donors:"
   ]
  },
  {
   "cell_type": "code",
   "execution_count": null,
   "metadata": {},
   "outputs": [],
   "source": [
    "# Perform matching\n",
    "result = nnd_hotdeck(\n",
    "    data_rec=recipients,\n",
    "    data_don=donors,\n",
    "    match_vars=[\"age\", \"income\", \"education_years\"],\n",
    "    dist_fun=\"euclidean\",\n",
    ")\n",
    "\n",
    "print(\"Matching complete!\")\n",
    "print(f\"Average match distance: {result['dist.rd'].mean():.2f}\")\n",
    "print(f\"Min distance: {result['dist.rd'].min():.2f}\")\n",
    "print(f\"Max distance: {result['dist.rd'].max():.2f}\")"
   ]
  },
  {
   "cell_type": "markdown",
   "metadata": {},
   "source": [
    "## Create Fused Dataset\n",
    "\n",
    "Now we'll create the fused dataset by adding the donated variable:"
   ]
  },
  {
   "cell_type": "code",
   "execution_count": null,
   "metadata": {},
   "outputs": [],
   "source": [
    "# Create fused dataset\n",
    "fused = recipients.copy()\n",
    "fused[\"job_satisfaction\"] = donors.iloc[result[\"noad.index\"]][\n",
    "    \"job_satisfaction\"\n",
    "].values\n",
    "fused[\"donor_id\"] = result[\"noad.index\"]\n",
    "fused[\"match_distance\"] = result[\"dist.rd\"]\n",
    "\n",
    "print(\"Fused dataset shape:\", fused.shape)\n",
    "fused.head()"
   ]
  },
  {
   "cell_type": "markdown",
   "metadata": {},
   "source": [
    "## Analyze Match Quality"
   ]
  },
  {
   "cell_type": "code",
   "execution_count": null,
   "metadata": {},
   "outputs": [],
   "source": [
    "# Distribution of match distances\n",
    "plt.figure(figsize=(10, 4))\n",
    "\n",
    "plt.subplot(1, 2, 1)\n",
    "plt.hist(result[\"dist.rd\"], bins=30, edgecolor=\"black\")\n",
    "plt.xlabel(\"Match Distance\")\n",
    "plt.ylabel(\"Count\")\n",
    "plt.title(\"Distribution of Match Distances\")\n",
    "\n",
    "plt.subplot(1, 2, 2)\n",
    "plt.scatter(fused[\"match_distance\"], fused[\"job_satisfaction\"], alpha=0.5)\n",
    "plt.xlabel(\"Match Distance\")\n",
    "plt.ylabel(\"Donated Job Satisfaction\")\n",
    "plt.title(\"Match Quality vs Donated Value\")\n",
    "\n",
    "plt.tight_layout()\n",
    "plt.show()"
   ]
  },
  {
   "cell_type": "markdown",
   "metadata": {},
   "source": [
    "## Examine Specific Matches\n",
    "\n",
    "Let's look at some specific matches to understand the process:"
   ]
  },
  {
   "cell_type": "code",
   "execution_count": null,
   "metadata": {},
   "outputs": [],
   "source": [
    "# Look at best and worst matches\n",
    "best_match_idx = result[\"dist.rd\"].argmin()\n",
    "worst_match_idx = result[\"dist.rd\"].argmax()\n",
    "\n",
    "print(\"BEST MATCH:\")\n",
    "print(f\"Distance: {result['dist.rd'][best_match_idx]:.4f}\")\n",
    "print(\"\\nRecipient:\")\n",
    "print(recipients.iloc[best_match_idx][[\"age\", \"income\", \"education_years\"]])\n",
    "print(\"\\nMatched Donor:\")\n",
    "print(\n",
    "    donors.iloc[result[\"noad.index\"][best_match_idx]][\n",
    "        [\"age\", \"income\", \"education_years\", \"job_satisfaction\"]\n",
    "    ]\n",
    ")\n",
    "\n",
    "print(\"\\n\" + \"=\" * 50 + \"\\n\")\n",
    "\n",
    "print(\"WORST MATCH:\")\n",
    "print(f\"Distance: {result['dist.rd'][worst_match_idx]:.4f}\")\n",
    "print(\"\\nRecipient:\")\n",
    "print(recipients.iloc[worst_match_idx][[\"age\", \"income\", \"education_years\"]])\n",
    "print(\"\\nMatched Donor:\")\n",
    "print(\n",
    "    donors.iloc[result[\"noad.index\"][worst_match_idx]][\n",
    "        [\"age\", \"income\", \"education_years\", \"job_satisfaction\"]\n",
    "    ]\n",
    ")"
   ]
  },
  {
   "cell_type": "markdown",
   "metadata": {},
   "source": [
    "## Compare Distance Metrics\n",
    "\n",
    "Let's see how different distance metrics affect the matching:"
   ]
  },
  {
   "cell_type": "code",
   "execution_count": null,
   "metadata": {},
   "outputs": [],
   "source": [
    "# Try different distance functions\n",
    "distance_functions = [\"euclidean\", \"manhattan\", \"cosine\"]\n",
    "results_by_distance = {}\n",
    "\n",
    "for dist_fun in distance_functions:\n",
    "    result = nnd_hotdeck(\n",
    "        data_rec=recipients,\n",
    "        data_don=donors,\n",
    "        match_vars=[\"age\", \"income\", \"education_years\"],\n",
    "        dist_fun=dist_fun,\n",
    "    )\n",
    "    results_by_distance[dist_fun] = result[\"dist.rd\"]\n",
    "\n",
    "# Compare distance distributions\n",
    "plt.figure(figsize=(12, 4))\n",
    "for i, (dist_fun, distances) in enumerate(results_by_distance.items()):\n",
    "    plt.subplot(1, 3, i + 1)\n",
    "    plt.hist(distances, bins=30, edgecolor=\"black\")\n",
    "    plt.xlabel(\"Match Distance\")\n",
    "    plt.ylabel(\"Count\")\n",
    "    plt.title(f\"{dist_fun.capitalize()} Distance\")\n",
    "    plt.text(\n",
    "        0.05,\n",
    "        0.95,\n",
    "        f\"Mean: {distances.mean():.2f}\\nStd: {distances.std():.2f}\",\n",
    "        transform=plt.gca().transAxes,\n",
    "        verticalalignment=\"top\",\n",
    "        bbox=dict(boxstyle=\"round\", facecolor=\"wheat\", alpha=0.5),\n",
    "    )\n",
    "\n",
    "plt.tight_layout()\n",
    "plt.show()"
   ]
  },
  {
   "cell_type": "markdown",
   "metadata": {},
   "source": [
    "## Summary\n",
    "\n",
    "This example demonstrated:\n",
    "1. Basic usage of `nnd_hotdeck` for statistical matching\n",
    "2. Creating a fused dataset with donated variables\n",
    "3. Analyzing match quality through distance distributions\n",
    "4. Comparing different distance metrics\n",
    "\n",
    "Key takeaways:\n",
    "- Lower match distances indicate better matches\n",
    "- The choice of distance metric affects matching results\n",
    "- It's important to examine the distribution of match distances to assess overall matching quality\n",
    "- Extreme cases (best/worst matches) can help identify potential issues"
   ]
  }
 ],
 "metadata": {
  "kernelspec": {
   "display_name": "Python 3",
   "language": "python",
   "name": "python3"
  },
  "language_info": {
   "codemirror_mode": {
    "name": "ipython",
    "version": 3
   },
   "file_extension": ".py",
   "mimetype": "text/x-python",
   "name": "python",
   "nbconvert_exporter": "python",
   "pygments_lexer": "ipython3",
   "version": "3.12.0"
  }
 },
 "nbformat": 4,
 "nbformat_minor": 4
}